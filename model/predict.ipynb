{
 "cells": [
  {
   "cell_type": "code",
   "execution_count": 26,
   "metadata": {},
   "outputs": [],
   "source": [
    "import numpy as np\n",
    "from joblib import load\n",
    "import tensorflow.keras as keras\n",
    "import json"
   ]
  },
  {
   "cell_type": "code",
   "execution_count": 27,
   "metadata": {},
   "outputs": [],
   "source": [
    "model = load('../app/model.joblib')\n",
    "\n",
    "with open('../app/tokenizer.json', 'r') as json_file:\n",
    "  tokenizer_json = json.load(json_file)\n",
    "\n",
    "tokenizer = keras.preprocessing.text.tokenizer_from_json(tokenizer_json)"
   ]
  },
  {
   "cell_type": "code",
   "execution_count": 28,
   "metadata": {},
   "outputs": [],
   "source": [
    "from preprocessing import load_text\n",
    "\n",
    "FILE_NAME = '../data/txt_sentoken/pos/cv000_29590.txt'\n",
    "\n",
    "text_data = load_text(FILE_NAME)\n",
    "vocab = load_text('vocab.txt')"
   ]
  },
  {
   "cell_type": "code",
   "execution_count": 29,
   "metadata": {},
   "outputs": [],
   "source": [
    "import string\n",
    "from tensorflow.keras.preprocessing.sequence import pad_sequences\n",
    "\n",
    "MAX_LEN = 971\n",
    "BATCH_SIZE = 32\n",
    "\n",
    "def preprocess_text(text, vocab):\n",
    "  tokens = text.split()\n",
    "  translator = str.maketrans('', '', string.punctuation)\n",
    "  tokens = [s.translate(translator) for s in tokens]\n",
    "  tokens = [s for s in tokens if len(s) > 2]\n",
    "  tokens = [s for s in tokens if s in vocab]\n",
    "  return tokens\n",
    "\n",
    "def predict_text(model, tokenizer, text, vocab):\n",
    "  tokens = preprocess_text(text, vocab)\n",
    "  encoded_tokens = tokenizer.texts_to_sequences([tokens])\n",
    "  encoded_texts = pad_sequences(encoded_tokens, maxlen = MAX_LEN, padding = 'post')\n",
    "  preds = model.predict([encoded_texts], batch_size = BATCH_SIZE)\n",
    "  if (preds[0] >= 0.50):\n",
    "    acc = ((preds[0][0] - 0.50) * 2 * 100)\n",
    "    tag = 'Negative'\n",
    "  else:\n",
    "    acc = ((0.50 - preds[0][0]) * 2 * 100)\n",
    "    tag = 'Positive'\n",
    "  return tag, acc"
   ]
  },
  {
   "cell_type": "code",
   "execution_count": 30,
   "metadata": {},
   "outputs": [
    {
     "name": "stdout",
     "output_type": "stream",
     "text": [
      "\u001b[1m1/1\u001b[0m \u001b[32m━━━━━━━━━━━━━━━━━━━━\u001b[0m\u001b[37m\u001b[0m \u001b[1m0s\u001b[0m 36ms/step\n",
      "Negative\n",
      "81.70849\n"
     ]
    }
   ],
   "source": [
    "result, accuracy = predict_text(model = model, tokenizer = tokenizer, text = text_data, vocab = vocab)\n",
    "print(result)\n",
    "print(accuracy)"
   ]
  }
 ],
 "metadata": {
  "kernelspec": {
   "display_name": ".venv",
   "language": "python",
   "name": "python3"
  },
  "language_info": {
   "codemirror_mode": {
    "name": "ipython",
    "version": 3
   },
   "file_extension": ".py",
   "mimetype": "text/x-python",
   "name": "python",
   "nbconvert_exporter": "python",
   "pygments_lexer": "ipython3",
   "version": "3.9.6"
  }
 },
 "nbformat": 4,
 "nbformat_minor": 2
}
